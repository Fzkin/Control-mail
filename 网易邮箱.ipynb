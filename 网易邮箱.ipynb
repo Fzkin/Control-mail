{
 "cells": [
  {
   "cell_type": "code",
   "execution_count": 11,
   "metadata": {},
   "outputs": [],
   "source": [
    "import poplib\n",
    "#解析邮件\n",
    "from email.parser import Parser\n",
    "from email.header import decode_header\n",
    "from email.utils import parseaddr"
   ]
  },
  {
   "cell_type": "markdown",
   "metadata": {},
   "source": [
    "+ 解析消息头中的字符串\n",
    "+ 没有这个函数，print出来的会使乱码的头部信息。如'=?gb18030?B?yrXWpL3hufsueGxz?='这种\n",
    "+ 通过decode，将其变为中文"
   ]
  },
  {
   "cell_type": "code",
   "execution_count": 12,
   "metadata": {},
   "outputs": [],
   "source": [
    "def decode_str(s):\n",
    "    value, charset = decode_header(s)[0]\n",
    "    if charset:\n",
    "        value = value.decode(charset)\n",
    "    return value"
   ]
  },
  {
   "cell_type": "markdown",
   "metadata": {},
   "source": [
    "+ 解码邮件信息分为两个步骤，第一个是取出头部信息\n",
    "+ 首先取头部信息\n",
    "+ 主要取出['From','To','Subject']   \n",
    "'''\n",
    "From: \"=?gb18030?B?anVzdHpjYw==?=\" <justonezcc@sina.com>\n",
    "To: \"=?gb18030?B?ztLX1Ly6tcTTys/k?=\" <392361639@qq.com>\n",
    "Subject: =?gb18030?B?dGV4dMTjusM=?=\n",
    "'''\n",
    "+ 如上述样式，均需要解码"
   ]
  },
  {
   "cell_type": "code",
   "execution_count": 13,
   "metadata": {},
   "outputs": [],
   "source": [
    "def get_header(msg):\n",
    "    for header in ['From', 'To', 'Subject']:\n",
    "        value = msg.get(header, '')\n",
    "        if value:\n",
    "            #文章的标题有专门的处理方法\n",
    "            if header == 'Subject':\n",
    "                value = decode_str(value)\n",
    "            elif header in ['From','To']:\n",
    "            #地址也有专门的处理方法\n",
    "                hdr, addr = parseaddr(value)\n",
    "                name = decode_str(addr)\n",
    "                #value = name + ' < ' + addr + ' > '\n",
    "                value=name\n",
    "        print(header + ':' + value)\n",
    "#头部信息已取出"
   ]
  },
  {
   "cell_type": "code",
   "execution_count": 14,
   "metadata": {},
   "outputs": [],
   "source": [
    "#获取邮件的字符编码，首先在message中寻找编码，如果没有，就在header的Content-Type中寻找\n",
    "def guess_charset(msg):\n",
    "    charset = msg.get_charset()\n",
    "    if charset is None:\n",
    "        content_type = msg.get('Content-Type', '').lower()\n",
    "        pos = content_type.find('charset=')\n",
    "        if pos >= 0:\n",
    "            charset = content_type[pos+8:].strip()\n",
    "    return charset"
   ]
  },
  {
   "cell_type": "code",
   "execution_count": 15,
   "metadata": {},
   "outputs": [],
   "source": [
    "#邮件正文部分\n",
    "#取附件\n",
    "#邮件的正文部分在生成器中，msg.walk()\n",
    "#如果存在附件，则可以通过.get_filename()的方式获取文件名称\n",
    "\n",
    "def get_file(msg,download_mail,now_date):\n",
    "    for part in msg.walk():\n",
    "        filename=part.get_filename()\n",
    "        if filename!=None:#如果存在附件\n",
    "            filename = decode_str(filename)#获取的文件是乱码名称，通过一开始定义的函数解码\n",
    "            data = part.get_payload(decode = True)#取出文件正文内容\n",
    "            #此处可以自己定义文件保存位置\n",
    "            path = download_mail + 'MIMLB Report_' + now_date + '.xls'\n",
    "#            path=filename\n",
    "#            print(path,1111111111111)\n",
    "            f = open(path, 'wb')\n",
    "            f.write(data)\n",
    "            f.close()\n",
    "            print(filename,'download')"
   ]
  },
  {
   "cell_type": "code",
   "execution_count": 16,
   "metadata": {},
   "outputs": [],
   "source": [
    "def get_content(msg):\n",
    "    for part in msg.walk():\n",
    "        content_type = part.get_content_type()\n",
    "        charset = guess_charset(part)\n",
    "        #如果有附件，则直接跳过\n",
    "        if part.get_filename()!=None:\n",
    "            continue\n",
    "        email_content_type = ''\n",
    "        content = ''\n",
    "        if content_type == 'text/plain':\n",
    "            email_content_type = 'text'\n",
    "        elif content_type == 'text/html':\n",
    "            print('html 格式 跳过')\n",
    "            continue #不要html格式的邮件\n",
    "            email_content_type = 'html'\n",
    "        if charset:\n",
    "            try:\n",
    "                content = part.get_payload(decode=True).decode(charset)\n",
    "            except AttributeError:\n",
    "                print('type error')\n",
    "            except LookupError:\n",
    "                print(\"unknown encoding: utf-8\")\n",
    "        if email_content_type =='':\n",
    "            continue\n",
    "            #如果内容为空，也跳过\n",
    "        print(email_content_type + ' -----  ' + content)"
   ]
  },
  {
   "cell_type": "code",
   "execution_count": 17,
   "metadata": {},
   "outputs": [],
   "source": [
    "def init_mail():\n",
    "    import configparser\n",
    "    config = configparser.ConfigParser()\n",
    "    config.read(os.path.abspath(os.path.join(os.getcwd(), \"..\")) + '\\\\file\\\\setting.ini', encoding=\"utf-8\")\n",
    "    email = config.get(\"mail\", \"email\")\n",
    "    password = config.get(\"mail\", \"password\")\n",
    "    server=poplib.POP3_SSL(config.get(\"mail\", \"server\"))\n",
    "#    email='18810539002@163.com'\n",
    "#    password='lfj123456789'\n",
    "#    server=poplib.POP3_SSL('pop.163.com')\n",
    "    server.user(email)\n",
    "    server.pass_(password)\n",
    "    #登录的过程\n",
    "    resp, mails, octets = server.list()\n",
    "    index = len(mails)#邮件的总数\n",
    "    #此处的循环是取最近的几封邮件\n",
    "    for i in range(index):\n",
    "#        resp, lines, octets = server.retr(1)#取邮件\n",
    "#        msg_content = b'\\r\\n'.join(lines).decode('utf-8','ignore')\n",
    "#        msg = Parser().parsestr(msg_content)\n",
    "        server.dele(index) #删除邮件\n",
    "#        get_header(msg)\n",
    "#        get_file(msg)\n",
    "#        get_content(msg)\n",
    "    server.quit()"
   ]
  },
  {
   "cell_type": "code",
   "execution_count": null,
   "metadata": {},
   "outputs": [],
   "source": []
  }
 ],
 "metadata": {
  "kernelspec": {
   "display_name": "Python 3",
   "language": "python",
   "name": "python3"
  },
  "language_info": {
   "codemirror_mode": {
    "name": "ipython",
    "version": 3
   },
   "file_extension": ".py",
   "mimetype": "text/x-python",
   "name": "python",
   "nbconvert_exporter": "python",
   "pygments_lexer": "ipython3",
   "version": "3.7.6"
  }
 },
 "nbformat": 4,
 "nbformat_minor": 4
}
